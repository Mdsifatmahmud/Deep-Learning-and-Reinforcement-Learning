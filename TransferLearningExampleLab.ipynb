{
 "cells": [
  {
   "cell_type": "markdown",
   "metadata": {},
   "source": [
    "<center>\n",
    "    <img src=\"https://cf-courses-data.s3.us.cloud-object-storage.appdomain.cloud/assets/logos/SN_web_lightmode.png\" width=\"300\" alt=\"cognitiveclass.ai logo\">\n",
    "</center>\n"
   ]
  },
  {
   "cell_type": "markdown",
   "metadata": {},
   "source": [
    "# **End-to-End Example: Transfer Learning**\n"
   ]
  },
  {
   "cell_type": "markdown",
   "metadata": {},
   "source": [
    "Estimated time needed: **45** minutes\n"
   ]
  },
  {
   "cell_type": "markdown",
   "metadata": {},
   "source": [
    "In this lab, we will walk through an end-to-end example of transfer learning and fine-tuning. \n"
   ]
  },
  {
   "cell_type": "markdown",
   "metadata": {},
   "source": [
    "<h1> Is the waste product organic or a recyclable? </h1></s>\n"
   ]
  },
  {
   "cell_type": "markdown",
   "metadata": {},
   "source": [
    "You are a data science intern at a waste management service. Your manager has asked you to create a waste classification pipeline that categorizes waste streams based on disposal options: organic or recyclable. \n",
    "\n",
    "In this lab we're going to train a transfer learning model to perform this image classification task.\n"
   ]
  },
  {
   "cell_type": "markdown",
   "metadata": {},
   "source": [
    "<img src=\"https://cf-courses-data.s3.us.cloud-object-storage.appdomain.cloud/IBMDeveloperSkillsNetwork-ML311-Coursera/labs/Module3/L2/img/transfer_learning.gif\" width=\"600\" height=\"600\">\n"
   ]
  },
  {
   "cell_type": "markdown",
   "metadata": {},
   "source": [
    "## **Table of Contents**\n",
    "\n",
    "<ol>\n",
    "    <li><a href=\"#Objectives\">Objectives</a></li>\n",
    "    <li>\n",
    "        <a href=\"#Setup\">Setup</a>\n",
    "    </li>\n",
    "    <li>\n",
    "        <a href=\"#Background\">Background</a>\n",
    "        <ol>\n",
    "            <li><a href=\"#What is transfer learning?\">What is transfer learning?</a></li>\n",
    "        </ol>\n",
    "    </li>\n",
    "        <li>\n",
    "        <a href=\"#Example 1: Create a ML model for distinguishing recyclable and organic waste images\">Example 1: Create a ML model for distinguishing recyclable and organic waste images</a>\n",
    "            <ol>\n",
    "            <li><a href=\"#Dataset\">Dataset</a></li>\n",
    "            <li><a href=\"#Importing data\">Importing data</a></li>\n",
    "            <li><a href=\"#Data visualization\">Data visualization</a></li>\n",
    "            <li><a href=\"#Define configuration options\">Define configuration options</a></li>\n",
    "            <li><a href=\"#Loading Images using ImageGeneratorClass\">Loading Images using ImageGeneratorClass</a></li>\n",
    "            <li><a href=\"#Pre-trained models\">Pre-trained models</a></li>\n",
    "            <li><a href=\"#Compile the model\">Compile the model</a></li>\n",
    "            <li><a href=\"#Fine-Tuning\">Fine-Tuning</a></li>\n",
    "            <li><a href=\"#Evaluate both models on test data\">Evaluate both models on test data</a></li>\n",
    "        </ol>\n",
    "        </li>\n",
    "    <li>\n",
    "        <a href=\"#Example 2: Use Transfer Learning for identifying Stop Signs\">Example 2: Use Transfer Learning for identifying Stop Signs</a>\n",
    "            <ol>\n",
    "            <li><a href=\"#Loading images\">Loading images</a></li>\n",
    "            <li><a href=\"#Defining a helper function\">Defining a helper function</a></li>\n",
    "            <li><a href=\"#Pre-trained Model 1: Incepton-v3\">Pre-trained Model 1: Incepton-v3</a></li>\n",
    "            <li><a href=\"#Pre-trained Model 2: MobileNet\">Pre-trained Model 2: MobileNet</a></li>\n",
    "            <li><a href=\"#Pre-trained Model 3: ResNet-50\">Pre-trained Model 3: ResNet-50</a></li>\n",
    "         </ol>\n",
    "        </li>\n",
    "</ol>\n"
   ]
  },
  {
   "cell_type": "markdown",
   "metadata": {},
   "source": [
    "## Objectives\n",
    "\n",
    "After completing this lab you will be able to:\n",
    "\n",
    "- __Perform__ pre-processing and image augmentation on ImageGeneratorClass objects in Keras. \n",
    "- __Implement__ transfer learning in five general steps: \n",
    "    - obtain pre-trained model, \n",
    "    - create base model, \n",
    "    - freeze layers, \n",
    "    - train new layers on dataset, \n",
    "    - improve model through fine tuning.\n",
    "- __Build__ an end-to-end VGG16-based transfer learning model for binary image classification tasks.\n"
   ]
  },
  {
   "cell_type": "markdown",
   "metadata": {},
   "source": [
    "## Setup\n"
   ]
  },
  {
   "cell_type": "markdown",
   "metadata": {},
   "source": [
    "For this lab, we will be using the following libraries:\n",
    "\n",
    "*   [`pandas`](https://pandas.pydata.org/?utm_medium=Exinfluencer&utm_source=Exinfluencer&utm_content=000026UJ&utm_term=10006555&utm_id=NA-SkillsNetwork-Channel-SkillsNetworkCoursesIBMML0187ENSkillsNetwork31430127-2021-01-01) for managing the data.\n",
    "*   [`numpy`](https://numpy.org/?utm_medium=Exinfluencer&utm_source=Exinfluencer&utm_content=000026UJ&utm_term=10006555&utm_id=NA-SkillsNetwork-Channel-SkillsNetworkCoursesIBMML0187ENSkillsNetwork31430127-2021-01-01) for mathematical operations.\n",
    "*   [`sklearn`](https://scikit-learn.org/stable/?utm_medium=Exinfluencer&utm_source=Exinfluencer&utm_content=000026UJ&utm_term=10006555&utm_id=NA-SkillsNetwork-Channel-SkillsNetworkCoursesIBMML0187ENSkillsNetwork31430127-2021-01-01) for machine learning and machine-learning-pipeline related functions.\n",
    "*   [`seaborn`](https://seaborn.pydata.org/?utm_medium=Exinfluencer&utm_source=Exinfluencer&utm_content=000026UJ&utm_term=10006555&utm_id=NA-SkillsNetwork-Channel-SkillsNetworkCoursesIBMML0187ENSkillsNetwork31430127-2021-01-01) for visualizing the data.\n",
    "*   [`matplotlib`](https://matplotlib.org/?utm_medium=Exinfluencer&utm_source=Exinfluencer&utm_content=000026UJ&utm_term=10006555&utm_id=NA-SkillsNetwork-Channel-SkillsNetworkCoursesIBMML0187ENSkillsNetwork31430127-2021-01-01) for additional plotting tools.\n",
    "*   [`keras`](https://keras.io/?utm_medium=Exinfluencer&utm_source=Exinfluencer&utm_content=000026UJ&utm_term=10006555&utm_id=NA-SkillsNetwork-Channel-SkillsNetworkCoursesIBMML0187ENSkillsNetwork31430127-2021-01-01) for loading datasets.\n"
   ]
  },
  {
   "cell_type": "markdown",
   "metadata": {},
   "source": [
    "### Installing Required Libraries\n",
    "\n",
    "The following required libraries are pre-installed in the Skills Network Labs environment. However, if you run these notebook commands in a different Jupyter environment (like Watson Studio or Ananconda), you will need to install these libraries by removing the `#` sign before `!pip install tensorflow_datasets`, `!pip install --upgrade tensorflow` and `!pip install opendatasets` in the following code cell.\n"
   ]
  },
  {
   "cell_type": "code",
   "execution_count": 1,
   "metadata": {},
   "outputs": [],
   "source": [
    "# All Libraries required for this lab are listed below. The libraries pre-installed on Skills Network Labs are commented.\n",
    "# !mamba install -qy pandas==1.3.4 numpy==1.21.4 seaborn==0.9.0 matplotlib==3.5.0 scikit-learn==0.20.1\n",
    "# Note: If your environment doesn't support \"!mamba install\", use \"!pip install\""
   ]
  },
  {
   "cell_type": "code",
   "execution_count": 2,
   "metadata": {
    "tags": []
   },
   "outputs": [
    {
     "name": "stdout",
     "output_type": "stream",
     "text": [
      "Requirement already satisfied: tensorflow in /home/jupyterlab/conda/envs/python/lib/python3.7/site-packages (2.11.0)\n",
      "Requirement already satisfied: absl-py>=1.0.0 in /home/jupyterlab/conda/envs/python/lib/python3.7/site-packages (from tensorflow) (1.4.0)\n",
      "Requirement already satisfied: astunparse>=1.6.0 in /home/jupyterlab/conda/envs/python/lib/python3.7/site-packages (from tensorflow) (1.6.3)\n",
      "Requirement already satisfied: flatbuffers>=2.0 in /home/jupyterlab/conda/envs/python/lib/python3.7/site-packages (from tensorflow) (25.2.10)\n",
      "Requirement already satisfied: gast<=0.4.0,>=0.2.1 in /home/jupyterlab/conda/envs/python/lib/python3.7/site-packages (from tensorflow) (0.4.0)\n",
      "Requirement already satisfied: google-pasta>=0.1.1 in /home/jupyterlab/conda/envs/python/lib/python3.7/site-packages (from tensorflow) (0.2.0)\n",
      "Requirement already satisfied: grpcio<2.0,>=1.24.3 in /home/jupyterlab/conda/envs/python/lib/python3.7/site-packages (from tensorflow) (1.48.1)\n",
      "Requirement already satisfied: h5py>=2.9.0 in /home/jupyterlab/conda/envs/python/lib/python3.7/site-packages (from tensorflow) (3.8.0)\n",
      "Requirement already satisfied: keras<2.12,>=2.11.0 in /home/jupyterlab/conda/envs/python/lib/python3.7/site-packages (from tensorflow) (2.11.0)\n",
      "Requirement already satisfied: libclang>=13.0.0 in /home/jupyterlab/conda/envs/python/lib/python3.7/site-packages (from tensorflow) (18.1.1)\n",
      "Requirement already satisfied: numpy>=1.20 in /home/jupyterlab/conda/envs/python/lib/python3.7/site-packages (from tensorflow) (1.21.6)\n",
      "Requirement already satisfied: opt-einsum>=2.3.2 in /home/jupyterlab/conda/envs/python/lib/python3.7/site-packages (from tensorflow) (3.3.0)\n",
      "Requirement already satisfied: packaging in /home/jupyterlab/conda/envs/python/lib/python3.7/site-packages (from tensorflow) (23.1)\n",
      "Requirement already satisfied: protobuf<3.20,>=3.9.2 in /home/jupyterlab/conda/envs/python/lib/python3.7/site-packages (from tensorflow) (3.19.6)\n",
      "Requirement already satisfied: setuptools in /home/jupyterlab/conda/envs/python/lib/python3.7/site-packages (from tensorflow) (67.7.2)\n",
      "Requirement already satisfied: six>=1.12.0 in /home/jupyterlab/conda/envs/python/lib/python3.7/site-packages (from tensorflow) (1.16.0)\n",
      "Requirement already satisfied: tensorboard<2.12,>=2.11 in /home/jupyterlab/conda/envs/python/lib/python3.7/site-packages (from tensorflow) (2.11.2)\n",
      "Requirement already satisfied: tensorflow-estimator<2.12,>=2.11.0 in /home/jupyterlab/conda/envs/python/lib/python3.7/site-packages (from tensorflow) (2.11.0)\n",
      "Requirement already satisfied: termcolor>=1.1.0 in /home/jupyterlab/conda/envs/python/lib/python3.7/site-packages (from tensorflow) (2.3.0)\n",
      "Requirement already satisfied: typing-extensions>=3.6.6 in /home/jupyterlab/conda/envs/python/lib/python3.7/site-packages (from tensorflow) (4.5.0)\n",
      "Requirement already satisfied: wrapt>=1.11.0 in /home/jupyterlab/conda/envs/python/lib/python3.7/site-packages (from tensorflow) (1.14.1)\n",
      "Requirement already satisfied: tensorflow-io-gcs-filesystem>=0.23.1 in /home/jupyterlab/conda/envs/python/lib/python3.7/site-packages (from tensorflow) (0.34.0)\n",
      "Requirement already satisfied: wheel<1.0,>=0.23.0 in /home/jupyterlab/conda/envs/python/lib/python3.7/site-packages (from astunparse>=1.6.0->tensorflow) (0.40.0)\n",
      "Requirement already satisfied: google-auth<3,>=1.6.3 in /home/jupyterlab/conda/envs/python/lib/python3.7/site-packages (from tensorboard<2.12,>=2.11->tensorflow) (2.40.1)\n",
      "Requirement already satisfied: google-auth-oauthlib<0.5,>=0.4.1 in /home/jupyterlab/conda/envs/python/lib/python3.7/site-packages (from tensorboard<2.12,>=2.11->tensorflow) (0.4.6)\n",
      "Requirement already satisfied: markdown>=2.6.8 in /home/jupyterlab/conda/envs/python/lib/python3.7/site-packages (from tensorboard<2.12,>=2.11->tensorflow) (3.4.3)\n",
      "Requirement already satisfied: requests<3,>=2.21.0 in /home/jupyterlab/conda/envs/python/lib/python3.7/site-packages (from tensorboard<2.12,>=2.11->tensorflow) (2.29.0)\n",
      "Requirement already satisfied: tensorboard-data-server<0.7.0,>=0.6.0 in /home/jupyterlab/conda/envs/python/lib/python3.7/site-packages (from tensorboard<2.12,>=2.11->tensorflow) (0.6.1)\n",
      "Requirement already satisfied: tensorboard-plugin-wit>=1.6.0 in /home/jupyterlab/conda/envs/python/lib/python3.7/site-packages (from tensorboard<2.12,>=2.11->tensorflow) (1.8.1)\n",
      "Requirement already satisfied: werkzeug>=1.0.1 in /home/jupyterlab/conda/envs/python/lib/python3.7/site-packages (from tensorboard<2.12,>=2.11->tensorflow) (2.2.3)\n",
      "Requirement already satisfied: cachetools<6.0,>=2.0.0 in /home/jupyterlab/conda/envs/python/lib/python3.7/site-packages (from google-auth<3,>=1.6.3->tensorboard<2.12,>=2.11->tensorflow) (5.5.2)\n",
      "Requirement already satisfied: pyasn1-modules>=0.2.1 in /home/jupyterlab/conda/envs/python/lib/python3.7/site-packages (from google-auth<3,>=1.6.3->tensorboard<2.12,>=2.11->tensorflow) (0.3.0)\n",
      "Requirement already satisfied: rsa<5,>=3.1.4 in /home/jupyterlab/conda/envs/python/lib/python3.7/site-packages (from google-auth<3,>=1.6.3->tensorboard<2.12,>=2.11->tensorflow) (4.9.1)\n",
      "Requirement already satisfied: requests-oauthlib>=0.7.0 in /home/jupyterlab/conda/envs/python/lib/python3.7/site-packages (from google-auth-oauthlib<0.5,>=0.4.1->tensorboard<2.12,>=2.11->tensorflow) (2.0.0)\n",
      "Requirement already satisfied: importlib-metadata>=4.4 in /home/jupyterlab/conda/envs/python/lib/python3.7/site-packages (from markdown>=2.6.8->tensorboard<2.12,>=2.11->tensorflow) (4.11.4)\n",
      "Requirement already satisfied: charset-normalizer<4,>=2 in /home/jupyterlab/conda/envs/python/lib/python3.7/site-packages (from requests<3,>=2.21.0->tensorboard<2.12,>=2.11->tensorflow) (3.1.0)\n",
      "Requirement already satisfied: idna<4,>=2.5 in /home/jupyterlab/conda/envs/python/lib/python3.7/site-packages (from requests<3,>=2.21.0->tensorboard<2.12,>=2.11->tensorflow) (3.4)\n",
      "Requirement already satisfied: urllib3<1.27,>=1.21.1 in /home/jupyterlab/conda/envs/python/lib/python3.7/site-packages (from requests<3,>=2.21.0->tensorboard<2.12,>=2.11->tensorflow) (1.26.15)\n",
      "Requirement already satisfied: certifi>=2017.4.17 in /home/jupyterlab/conda/envs/python/lib/python3.7/site-packages (from requests<3,>=2.21.0->tensorboard<2.12,>=2.11->tensorflow) (2023.5.7)\n",
      "Requirement already satisfied: MarkupSafe>=2.1.1 in /home/jupyterlab/conda/envs/python/lib/python3.7/site-packages (from werkzeug>=1.0.1->tensorboard<2.12,>=2.11->tensorflow) (2.1.1)\n",
      "Requirement already satisfied: zipp>=0.5 in /home/jupyterlab/conda/envs/python/lib/python3.7/site-packages (from importlib-metadata>=4.4->markdown>=2.6.8->tensorboard<2.12,>=2.11->tensorflow) (3.15.0)\n",
      "Requirement already satisfied: pyasn1<0.6.0,>=0.4.6 in /home/jupyterlab/conda/envs/python/lib/python3.7/site-packages (from pyasn1-modules>=0.2.1->google-auth<3,>=1.6.3->tensorboard<2.12,>=2.11->tensorflow) (0.5.0)\n",
      "Requirement already satisfied: oauthlib>=3.0.0 in /home/jupyterlab/conda/envs/python/lib/python3.7/site-packages (from requests-oauthlib>=0.7.0->google-auth-oauthlib<0.5,>=0.4.1->tensorboard<2.12,>=2.11->tensorflow) (3.2.2)\n"
     ]
    }
   ],
   "source": [
    "!pip install --upgrade tensorflow"
   ]
  },
  {
   "cell_type": "markdown",
   "metadata": {},
   "source": [
    "### Importing Required Libraries\n"
   ]
  },
  {
   "cell_type": "code",
   "execution_count": 3,
   "metadata": {
    "tags": []
   },
   "outputs": [
    {
     "name": "stdout",
     "output_type": "stream",
     "text": [
      "2.11.0\n"
     ]
    }
   ],
   "source": [
    "import numpy as np\n",
    "import datetime\n",
    "import os\n",
    "import random, shutil\n",
    "import glob\n",
    "import skillsnetwork\n",
    "\n",
    "import warnings\n",
    "warnings.simplefilter('ignore')\n",
    "\n",
    "os.environ['TF_CPP_MIN_LOG_LEVEL'] = '2' \n",
    "\n",
    "from matplotlib import pyplot as plt\n",
    "import seaborn as sns\n",
    "from matplotlib import pyplot\n",
    "from matplotlib.image import imread\n",
    "\n",
    "from os import makedirs,listdir\n",
    "from shutil import copyfile\n",
    "from random import seed\n",
    "from random import random\n",
    "import keras \n",
    "import tensorflow as tf\n",
    "print(tf.__version__)\n",
    "from tensorflow.keras.models import Sequential\n",
    "from keras.layers import Conv2D, MaxPooling2D, Flatten, Dense, Dropout, InputLayer\n",
    "from keras.models import Sequential\n",
    "from keras import optimizers\n",
    "from tensorflow.keras.callbacks import EarlyStopping, ModelCheckpoint\n",
    "from tensorflow.keras.layers import Conv2D, MaxPooling2D,GlobalAveragePooling2D, Input\n",
    "from tensorflow.keras.layers import Dense, Dropout, Flatten\n",
    "from tensorflow.keras.models import Sequential, Model\n",
    "from tensorflow.keras.preprocessing.image import ImageDataGenerator\n",
    "from tensorflow.keras.applications import InceptionV3\n",
    "from sklearn import metrics\n",
    "\n",
    "\n",
    "sns.set_context('notebook')\n",
    "sns.set_style('white')"
   ]
  },
  {
   "cell_type": "markdown",
   "metadata": {},
   "source": [
    "## Background\n"
   ]
  },
  {
   "cell_type": "markdown",
   "metadata": {},
   "source": [
    "### What is transfer learning?\n"
   ]
  },
  {
   "cell_type": "markdown",
   "metadata": {},
   "source": [
    "Most popular models are difficult to train from scratch as they require huge datasets (like ImageNet), a large number of training iterations, and very heavy computing machinery. The basic features (edges, shapes) learned by early layers in a network are generalizable. While the later layers in an already trained network tend to capture features that are more particular to a specific image classification task. \n",
    "\n",
    "__Transfer learning__ uses the idea that if we keep the early layers of a pre-trained network, and re-train the later layers on a specific dataset, we might be able to leverage some state of that network on a related task.\n"
   ]
  },
  {
   "cell_type": "markdown",
   "metadata": {},
   "source": [
    "A typical transfer learning workflow in Keras looks something like this:\n",
    "    \n",
    "1. Initialize base model, and load pre-trained weights (like ImageNet).\n",
    "2. \"Freeze\" layers in the base model by setting `training = False`.\n",
    "3. Define a new model that goes on top of the output of the base model's layers.\n",
    "4. Train resulting model on your data set.\n"
   ]
  },
  {
   "cell_type": "markdown",
   "metadata": {},
   "source": [
    "## Example 1: Create a ML model for distinguishing recyclable and organic waste images\n"
   ]
  },
  {
   "cell_type": "markdown",
   "metadata": {},
   "source": [
    "### Dataset\n"
   ]
  },
  {
   "cell_type": "markdown",
   "metadata": {},
   "source": [
    "The dataset used in this Lab was found on Kaggle, which is an awesome community for people who enjoy anything related to data science and machine learning. We will be using the Waste Classification Dataset [dataset](https://www.kaggle.com/datasets/techsash/waste-classification-data):\n"
   ]
  },
  {
   "cell_type": "markdown",
   "metadata": {},
   "source": [
    "> PROBLEM: \n",
    "> - Waste management is a big problem in our country. Most of the wastes end up in landfills.\n",
    "\n",
    "> APPROACH: \n",
    "> - Segregated into two classes (Organic and recyclable)\n",
    "> - Automated the process by using IOT and machine learning\n",
    "\n",
    "> IMPLEMENTATION:\n",
    "> - Dataset is divided into train data (85%) and test data (15%)\n",
    "> - Training data - 22,564 images Test data - 2,513 images\n"
   ]
  },
  {
   "cell_type": "markdown",
   "metadata": {},
   "source": [
    "* The dataset contains ~25,000 images of recyclable and organic products split into a train and test set.\n",
    "* Our goal is to train an algorithm on these files and to predict the labels for images in our test set (1 = recyclable, 0 = organic).\n"
   ]
  },
  {
   "cell_type": "markdown",
   "metadata": {},
   "source": [
    "Now that we have obtained the necessary context and some insight in today's dataset, we're moving on to the practical part: using transfer learning to classify images. In this task, we will be using Tensorflow, which is a highly used ML library for training neural networks, and Keras, which is an API that makes this process simpler.\n"
   ]
  },
  {
   "cell_type": "markdown",
   "metadata": {},
   "source": [
    "We will go through the following steps to create our classification model:\n"
   ]
  },
  {
   "cell_type": "markdown",
   "metadata": {},
   "source": [
    "1. Import data directly from Kaggle.\n",
    "2. Visualize a few random images from the train set.\n",
    "3. Load images in using the ImageGeneratorClass from Keras.\n",
    "4. Define model configuration options.\n",
    "5. Perform some image augmentation for improved model generalizability.\n",
    "6. Load, compile and train a pre-trained model like VGG-16.\n",
    "7. Perform inference on the test set. \n"
   ]
  },
  {
   "cell_type": "markdown",
   "metadata": {},
   "source": [
    "### Importing Data\n"
   ]
  },
  {
   "cell_type": "markdown",
   "metadata": {},
   "source": [
    "This will create a `o-vs-r-split` directory in your environment.\n"
   ]
  },
  {
   "cell_type": "code",
   "execution_count": 4,
   "metadata": {
    "tags": []
   },
   "outputs": [
    {
     "data": {
      "application/vnd.jupyter.widget-view+json": {
       "model_id": "dfa561eca8ce4c4bb8a09baf3f50ae03",
       "version_major": 2,
       "version_minor": 0
      },
      "text/plain": [
       "Downloading o-vs-r-split.tar.gz:   0%|          | 0/69513243 [00:00<?, ?it/s]"
      ]
     },
     "metadata": {},
     "output_type": "display_data"
    },
    {
     "data": {
      "application/vnd.jupyter.widget-view+json": {
       "model_id": "e9f2b515e5f24aa1b2680ee814956d84",
       "version_major": 2,
       "version_minor": 0
      },
      "text/plain": [
       "  0%|          | 0/8097 [00:00<?, ?it/s]"
      ]
     },
     "metadata": {},
     "output_type": "display_data"
    },
    {
     "name": "stdout",
     "output_type": "stream",
     "text": [
      "Saved to '.'\n"
     ]
    }
   ],
   "source": [
    "import skillsnetwork\n",
    "await skillsnetwork.prepare(\"https://cf-courses-data.s3.us.cloud-object-storage.appdomain.cloud/IBMDeveloperSkillsNetwork-ML311-Coursera/datasets/o-vs-r-split.tar.gz\",\n",
    "                           overwrite=True)\n"
   ]
  },
  {
   "cell_type": "markdown",
   "metadata": {},
   "source": [
    "### Define configuration options\n"
   ]
  },
  {
   "cell_type": "markdown",
   "metadata": {},
   "source": [
    "It's time to define some model configuration options.\n"
   ]
  },
  {
   "cell_type": "markdown",
   "metadata": {},
   "source": [
    "* __img_rows__ and __img_cols__ are used to specify width and height of the images expected by MobileNet.\n",
    "* __batch size__ is set to 32.\n",
    "* The __number of epochs__ (that is, iterations) is set to 5, but as we are using Early Stopping, the number of iterations might be lower if early stopping conditions are met before 5 iterations.\n",
    "* The __number of classes__ is 2.\n",
    "* We will use 20% of the data for __validation__ purposes.\n",
    "* We want to be able to see the model output, so we set __verbosity__ to 1, or True.\n",
    "* The __path__ is a path to the directory with the training data and __path_test__ should contain the test data.\n",
    "* The __input_shape__ is common for an image: (w, h, d).\n",
    "* We have two __labels__ in our dataset: organic (O), recyclable (R).\n",
    "* The __checkpoint_path__ is where ModelCheckpoint will save our model.\n"
   ]
  },
  {
   "cell_type": "code",
   "execution_count": 5,
   "metadata": {
    "tags": []
   },
   "outputs": [],
   "source": [
    "img_rows, img_cols = 150, 150\n",
    "batch_size = 32\n",
    "n_epochs = 10\n",
    "n_classes = 2\n",
    "val_split = 0.2\n",
    "verbosity = 1\n",
    "path = 'o-vs-r-split/train/'\n",
    "path_test = 'o-vs-r-split/test/'\n",
    "input_shape = (img_rows, img_cols, 3) #RGB\n",
    "labels = ['O', 'R']\n",
    "seed = 10\n",
    "checkpoint_path='ORnet.h5'"
   ]
  },
  {
   "cell_type": "markdown",
   "metadata": {},
   "source": [
    "### Loading Images using ImageGeneratorClass\n"
   ]
  },
  {
   "cell_type": "markdown",
   "metadata": {},
   "source": [
    "Transfer learning works best when models are trained on smaller datasets. We are using 10,000 images from the original dataset of 25,000 images. We are setting aside 10% of the set for testing purposes.\n"
   ]
  },
  {
   "cell_type": "markdown",
   "metadata": {},
   "source": [
    "The folder structure looks as follows:\n"
   ]
  },
  {
   "cell_type": "markdown",
   "metadata": {},
   "source": [
    "```python\n",
    "o-vs-r-split/\n",
    "└── train\n",
    "    ├── O\n",
    "    └── R\n",
    "└── test\n",
    "    ├── O\n",
    "    └── R\n",
    "```\n"
   ]
  },
  {
   "cell_type": "markdown",
   "metadata": {},
   "source": [
    "#### Image Augmentation\n"
   ]
  },
  {
   "cell_type": "markdown",
   "metadata": {},
   "source": [
    "Now we will create ImageDataGenerators used for training, validation, and testing.\n",
    "\n",
    "Image data generators create batches of tensor image data with real-time data augmentation. They loop over the data in batches and are useful in feeding data to the training process. We specify a 20% validation split.\n",
    "\n",
    "We will perform a few image augmentation steps. We set __rescale__ to 1./255. This means that each image pixel will be divided by 255 in order to normalize the image. We set the __width_shift_range__ and __height_shift_range__ to 0.1 each, and the __horizontal_flip__ to True. \n",
    "* The __width_shift_range__ shifts the image horizontally (left or right). \n",
    "* The __height_shift_range__ shifts the image vertically (up or down). \n",
    "* The __horizontal_flip__ randomly flip inputs horizontally.\n"
   ]
  },
  {
   "cell_type": "code",
   "execution_count": 6,
   "metadata": {
    "tags": []
   },
   "outputs": [],
   "source": [
    "# Create ImageDataGenerators for training and validation and testing\n",
    "train_datagen = ImageDataGenerator(\n",
    "    validation_split = val_split,\n",
    "    rescale=1.0/255.0,\n",
    "\twidth_shift_range=0.1, \n",
    "    height_shift_range=0.1, \n",
    "    horizontal_flip=True\n",
    ")\n",
    "\n",
    "val_datagen = ImageDataGenerator(\n",
    "    validation_split = val_split,\n",
    "    rescale=1.0/255.0,\n",
    "\twidth_shift_range=0.1, \n",
    "    height_shift_range=0.1, \n",
    "    horizontal_flip=True\n",
    ")\n",
    "\n",
    "test_datagen = ImageDataGenerator(\n",
    "    rescale=1.0/255.0\n",
    ")"
   ]
  },
  {
   "cell_type": "markdown",
   "metadata": {},
   "source": [
    "Since it is undesirable to load all of our image data into memory all at once, we make use of the __flow_from_directory__ method. It takes the ImageDataGenerator training/validation sets and flows image batches from a specified folder. \n",
    "\n",
    "* We set __directory__ to the __path__, specifying the path to our training dataset. \n",
    "* We specify classes using __labels__ we had defined in the configuration step.\n",
    "* We apply a __seed__ so our random initializer is generated in the same way each time we perform this step. This allows for direct comparison between experiments.\n"
   ]
  },
  {
   "cell_type": "code",
   "execution_count": 7,
   "metadata": {
    "tags": []
   },
   "outputs": [
    {
     "name": "stdout",
     "output_type": "stream",
     "text": [
      "Found 5810 images belonging to 2 classes.\n"
     ]
    }
   ],
   "source": [
    "# use the labels defined before to \n",
    "# find number of images belonging to each category\n",
    "train_generator = train_datagen.flow_from_directory(\n",
    "    directory = path,\n",
    "    classes = labels,\n",
    "    seed = seed,\n",
    "    batch_size = batch_size, \n",
    "    class_mode='binary',\n",
    "    shuffle = True,\n",
    "    target_size=(img_rows, img_rows),\n",
    "    subset = 'training'\n",
    ")"
   ]
  },
  {
   "cell_type": "code",
   "execution_count": 8,
   "metadata": {
    "tags": []
   },
   "outputs": [
    {
     "name": "stdout",
     "output_type": "stream",
     "text": [
      "Found 1452 images belonging to 2 classes.\n"
     ]
    }
   ],
   "source": [
    "val_generator = val_datagen.flow_from_directory(\n",
    "    directory = path,\n",
    "    classes = labels,\n",
    "    seed = seed,\n",
    "    batch_size = batch_size, \n",
    "    class_mode='binary',\n",
    "    shuffle = True,\n",
    "    target_size=(img_rows, img_rows),\n",
    "    subset = 'validation'\n",
    ")"
   ]
  },
  {
   "cell_type": "code",
   "execution_count": 9,
   "metadata": {
    "tags": []
   },
   "outputs": [
    {
     "name": "stdout",
     "output_type": "stream",
     "text": [
      "Found 828 images belonging to 2 classes.\n"
     ]
    }
   ],
   "source": [
    "test_generator = test_datagen.flow_from_directory(\n",
    "    directory = path_test,\n",
    "    classes = labels,\n",
    "    class_mode='binary',\n",
    "    seed = seed,\n",
    "    batch_size = batch_size, \n",
    "    shuffle = True,\n",
    "    target_size=(img_rows, img_rows)\n",
    ")"
   ]
  },
  {
   "cell_type": "markdown",
   "metadata": {},
   "source": [
    "There were 5810 images belonging to 2 classes found in the train directory, and 1452 images belonging to the same two classes were found in the validation directory, and 828 images were found in the test set.\n"
   ]
  },
  {
   "cell_type": "markdown",
   "metadata": {},
   "source": [
    "Let's look at a few augmented images:\n"
   ]
  },
  {
   "cell_type": "code",
   "execution_count": 10,
   "metadata": {
    "tags": []
   },
   "outputs": [
    {
     "name": "stdout",
     "output_type": "stream",
     "text": [
      "Labels: ['O', 'O', 'O', 'O', 'O']\n"
     ]
    },
    {
     "data": {
      "image/png": "[encoded data removed]",
      "text/plain": [
       "<Figure size 1600x600 with 5 Axes>"
      ]
     },
     "metadata": {},
     "output_type": "display_data"
    }
   ],
   "source": [
    "IMG_DIM = (100, 100)\n",
    "\n",
    "train_files = glob.glob('./o-vs-r-split/train/O/*')\n",
    "train_imgs = [tf.keras.preprocessing.image.img_to_array(tf.keras.preprocessing.image.load_img(img, target_size=IMG_DIM)) for img in train_files]\n",
    "train_imgs = np.array(train_imgs)\n",
    "train_labels = [fn.split('/')[3].split('.')[0].strip() for fn in train_files]\n",
    "\n",
    "img_id = 0\n",
    "O_generator = train_datagen.flow(train_imgs[img_id:img_id+1], train_labels[img_id:img_id+1],\n",
    "                                   batch_size=1)\n",
    "O = [next(O_generator) for i in range(0,5)]\n",
    "fig, ax = plt.subplots(1,5, figsize=(16, 6))\n",
    "print('Labels:', [item[1][0] for item in O])\n",
    "l = [ax[i].imshow(O[i][0][0]) for i in range(0,5)]\n"
   ]
  },
  {
   "cell_type": "markdown",
   "metadata": {},
   "source": [
    "### Pre-trained Models\n"
   ]
  },
  {
   "cell_type": "markdown",
   "metadata": {},
   "source": [
    "Pre-trained models are saved networks that have previously been trained on some large (somewhat related) datasets. They are typically used for a large-scale image-classification task. They can be used as they are or could be customized to a given task using transfer learning. These pre-trained models form the basis of transfer learning.\n"
   ]
  },
  {
   "cell_type": "markdown",
   "metadata": {},
   "source": [
    "We can leverage a pre-trained model's weighted layers to extract generic features. In this step we would not update the model's layers weights during training. This helps us utilize the knowledge from a source-domain task.\n"
   ]
  },
  {
   "cell_type": "markdown",
   "metadata": {},
   "source": [
    "Fine-tuning, which is a more involved process, involves more than just replacing the final layer. We also try to retrain some of the previous layers.\n"
   ]
  },
  {
   "cell_type": "markdown",
   "metadata": {},
   "source": [
    "In computer vision, some popular pre-trained models include: VGG-16, VGG-19, InceptionV3, XCeption, and ResNet-50.\n"
   ]
  },
  {
   "cell_type": "markdown",
   "metadata": {},
   "source": [
    "#### VGG-16\n"
   ]
  },
  {
   "cell_type": "markdown",
   "metadata": {},
   "source": [
    "Let us load the VGG16 model.\n",
    "\n",
    "```python\n",
    "tf.keras.applications.VGG16(\n",
    "    include_top=True,\n",
    "    weights=\"imagenet\",\n",
    "    input_shape=None,\n",
    ")\n",
    "```\n",
    "The default input image size for this model is 224x224.\n",
    "\n",
    "Further information on arguments can be found in the Keras [documentation](https://keras.io/api/applications/vgg/).\n",
    "\n",
    ">Note: Each Keras Application expects a specific kind of input preprocessing. For VGG16, call `tf.keras.applications.vgg16.preprocess_input` on your inputs before passing them to the `model.vgg16.preprocess_input` will convert the input images from RGB to BGR, then will zero-center each color channel with respect to the ImageNet dataset, without scaling.\n",
    "\n",
    ">* __include_top__: whether to include the fully-connected layer at the top of the network.\n",
    ">* __weights__: one of None (random initialization), 'imagenet' (pre-trained on ImageNet), or the path to the weights file to be loaded.\n",
    ">* __input_shape__: optional shape tuple, only to be specified if include_top is False (otherwise the input shape has to be (224, 224, 3). \n"
   ]
  },
  {
   "cell_type": "markdown",
   "metadata": {},
   "source": [
    "First we load the model \n"
   ]
  },
  {
   "cell_type": "code",
   "execution_count": 11,
   "metadata": {
    "tags": []
   },
   "outputs": [],
   "source": [
    "from keras.applications import vgg16\n",
    "input_shape = (150, 150, 3)\n",
    "\n",
    "vgg = vgg16.VGG16(include_top=False,\n",
    "                        weights='imagenet',\n",
    "                        input_shape=input_shape)\n",
    "\n"
   ]
  },
  {
   "cell_type": "markdown",
   "metadata": {},
   "source": [
    "We flatten the output of a vgg model and assign it to the model ```output```, we then use a Model object ```basemodel``` to group the layers into an object for training and inference .\n",
    "With the following inputs and outputs  \n",
    "\n",
    "inputs: ```vgg.input```\n",
    "\n",
    "outputs: ```tf.keras.layers.Flatten()(output)```\n"
   ]
  },
  {
   "cell_type": "code",
   "execution_count": 12,
   "metadata": {
    "tags": []
   },
   "outputs": [],
   "source": [
    "output = vgg.layers[-1].output\n",
    "output = tf.keras.layers.Flatten()(output)\n",
    "basemodel = Model(vgg.input, output)"
   ]
  },
  {
   "cell_type": "markdown",
   "metadata": {},
   "source": [
    "Next, we freeze the basemodel, like the lower layers.\n"
   ]
  },
  {
   "cell_type": "code",
   "execution_count": 13,
   "metadata": {
    "tags": []
   },
   "outputs": [],
   "source": [
    "basemodel.trainable = False\n",
    "for layer in basemodel.layers: layer.trainable = False"
   ]
  },
  {
   "cell_type": "markdown",
   "metadata": {},
   "source": [
    "Create a new model on top. We add a Dropout layer for regularization, only these layers will change as for the lower layers we set `training=False` when calling the base model.\n"
   ]
  },
  {
   "cell_type": "code",
   "execution_count": 14,
   "metadata": {
    "tags": []
   },
   "outputs": [],
   "source": [
    "input_shape = basemodel.output_shape[1]\n",
    "\n",
    "model = Sequential()\n",
    "model.add(basemodel)\n",
    "model.add(Dense(512, activation='relu', input_dim=input_shape))\n",
    "model.add(Dropout(0.3))\n",
    "model.add(Dense(512, activation='relu'))\n",
    "model.add(Dropout(0.3))\n",
    "model.add(Dense(1, activation='sigmoid'))"
   ]
  },
  {
   "cell_type": "markdown",
   "metadata": {},
   "source": [
    "Let us print the model summary.\n"
   ]
  },
  {
   "cell_type": "code",
   "execution_count": 15,
   "metadata": {
    "tags": []
   },
   "outputs": [
    {
     "name": "stdout",
     "output_type": "stream",
     "text": [
      "Model: \"sequential\"\n",
      "_________________________________________________________________\n",
      " Layer (type)                Output Shape              Param #   \n",
      "=================================================================\n",
      " model (Functional)          (None, 8192)              14714688  \n",
      "                                                                 \n",
      " dense (Dense)               (None, 512)               4194816   \n",
      "                                                                 \n",
      " dropout (Dropout)           (None, 512)               0         \n",
      "                                                                 \n",
      " dense_1 (Dense)             (None, 512)               262656    \n",
      "                                                                 \n",
      " dropout_1 (Dropout)         (None, 512)               0         \n",
      "                                                                 \n",
      " dense_2 (Dense)             (None, 1)                 513       \n",
      "                                                                 \n",
      "=================================================================\n",
      "Total params: 19,172,673\n",
      "Trainable params: 4,457,985\n",
      "Non-trainable params: 14,714,688\n",
      "_________________________________________________________________\n",
      "None\n"
     ]
    }
   ],
   "source": [
    "print(model.summary())"
   ]
  },
  {
   "cell_type": "markdown",
   "metadata": {},
   "source": [
    "### Compile the model\n"
   ]
  },
  {
   "cell_type": "markdown",
   "metadata": {},
   "source": [
    "Calling `compile()` freezes the behavior of that model, implying that the trainable attribute values at the time of compilation are preserved.\n"
   ]
  },
  {
   "cell_type": "markdown",
   "metadata": {},
   "source": [
    "We use RMSProp as our optimizer with a learning rate of 2e-5, Binary Cross Entropy Loss as our loss function and Accuracy as our primary metric for model evaluation as we have 2 labels in our dataset.\n"
   ]
  },
  {
   "cell_type": "code",
   "execution_count": 16,
   "metadata": {
    "tags": []
   },
   "outputs": [],
   "source": [
    "model.compile(loss='binary_crossentropy',\n",
    "              optimizer=optimizers.RMSprop(learning_rate=2e-5),\n",
    "              metrics=['accuracy'])\n"
   ]
  },
  {
   "cell_type": "markdown",
   "metadata": {},
   "source": [
    "We use early stopping to avoid over-training the model. An over-trained model overfits the training dataset and has poor performance on unseen test sets. We will also use a exponential step-decay based learning rate scheduler.\n"
   ]
  },
  {
   "cell_type": "code",
   "execution_count": 17,
   "metadata": {
    "tags": []
   },
   "outputs": [],
   "source": [
    "from keras.callbacks import LearningRateScheduler\n",
    "checkpoint_path='O_R_tlearn_image_augm_cnn_vgg16.h5'\n",
    "\n",
    "# define step decay function\n",
    "class LossHistory_(keras.callbacks.Callback):\n",
    "    def on_train_begin(self, logs={}):\n",
    "        self.losses = []\n",
    "        self.lr = []\n",
    "        \n",
    "    def on_epoch_end(self, batch, logs={}):\n",
    "        self.losses.append(logs.get('loss'))\n",
    "        self.lr.append(exp_decay(len(self.losses)))\n",
    "        print('lr:', exp_decay(len(self.losses)))\n",
    "\n",
    "def exp_decay(epoch):\n",
    "    initial_lrate = 1e-5\n",
    "    k = 0.1\n",
    "    lrate = initial_lrate * np.exp(-k*epoch)\n",
    "    return lrate\n",
    "\n",
    "# learning schedule callback\n",
    "loss_history_ = LossHistory_()\n",
    "lrate_ = LearningRateScheduler(exp_decay)\n",
    "\n",
    "keras_callbacks = [\n",
    "      EarlyStopping(monitor = 'loss', \n",
    "                    patience = 5, \n",
    "                    mode = 'min', \n",
    "                    min_delta=0.01),\n",
    "      ModelCheckpoint(checkpoint_path, monitor='loss', save_best_only=True, mode='min')\n",
    "]\n",
    "\n",
    "callbacks_list_ = [loss_history_, lrate_, keras_callbacks]"
   ]
  },
  {
   "cell_type": "markdown",
   "metadata": {},
   "source": [
    "### Fit and train the model\n"
   ]
  },
  {
   "cell_type": "code",
   "execution_count": null,
   "metadata": {
    "tags": []
   },
   "outputs": [
    {
     "name": "stdout",
     "output_type": "stream",
     "text": [
      "Epoch 1/5\n",
      "10/10 [==============================] - ETA: 0s - loss: 0.6902 - accuracy: 0.5875lr: 9.048374180359596e-06\n",
      "10/10 [==============================] - 83s 9s/step - loss: 0.6902 - accuracy: 0.5875 - val_loss: 0.6381 - val_accuracy: 0.6781 - lr: 1.0000e-05\n",
      "Epoch 2/5\n",
      "10/10 [==============================] - ETA: 0s - loss: 0.6567 - accuracy: 0.5906lr: 8.18730753077982e-06\n",
      "10/10 [==============================] - 81s 8s/step - loss: 0.6567 - accuracy: 0.5906 - val_loss: 0.6166 - val_accuracy: 0.7531 - lr: 9.0484e-06\n",
      "Epoch 3/5\n",
      "10/10 [==============================] - ETA: 0s - loss: 0.6576 - accuracy: 0.5938"
     ]
    }
   ],
   "source": [
    "extract_feat_model = model.fit(train_generator, \n",
    "                              steps_per_epoch=10, \n",
    "                              epochs=5,\n",
    "                              validation_data=val_generator, \n",
    "                              validation_steps=10, \n",
    "                              verbose=1,\n",
    "                              callbacks = callbacks_list_)  "
   ]
  },
  {
   "cell_type": "markdown",
   "metadata": {},
   "source": [
    "### Fine-Tuning\n"
   ]
  },
  {
   "cell_type": "markdown",
   "metadata": {},
   "source": [
    "Fine-tuning is an optional step in transfer learning, it usually ends up improving the performance of the model. It is easy to overfit the model in this step as we are re-training the entire model. So we use regularization (dropout layers), a lower learning rate, a small number of epochs (training iterations), and early stopping to know when the model has stopped improving and to prevent overfitting. \n"
   ]
  },
  {
   "cell_type": "markdown",
   "metadata": {},
   "source": [
    "In order to fine-tune our model, we will use the VGG-16 model object stored in the `basemodel` variable. We will unfreeze convolution blocks 4 and 5 and keep the first 3 blocks frozen. This ensures that the convolution and pooling layers for blocks 4 and 5 are trainable; that is, weights get updated through backpropagation in each training iteration or epoch.\n"
   ]
  },
  {
   "cell_type": "markdown",
   "metadata": {},
   "source": [
    "We can find the name of each layer\n"
   ]
  },
  {
   "cell_type": "code",
   "execution_count": null,
   "metadata": {
    "tags": []
   },
   "outputs": [],
   "source": [
    "[layer.name for layer in basemodel.layers]"
   ]
  },
  {
   "cell_type": "markdown",
   "metadata": {},
   "source": [
    "we then set ```'block5_conv1'```and ```'block4_conv1' ``` to trainable\n"
   ]
  },
  {
   "cell_type": "code",
   "execution_count": null,
   "metadata": {
    "tags": []
   },
   "outputs": [],
   "source": [
    "basemodel.trainable = True\n",
    "\n",
    "set_trainable = False\n",
    "\n",
    "for layer in basemodel.layers:\n",
    "    if layer.name in ['block5_conv1', 'block4_conv1']:\n",
    "        set_trainable = True\n",
    "    if set_trainable:\n",
    "        layer.trainable = True\n",
    "    else:\n",
    "        layer.trainable = False"
   ]
  },
  {
   "cell_type": "markdown",
   "metadata": {},
   "source": [
    "Similar to what we did before, we create a new model on top, add a Dropout layer for regularization, and set `training=False` when calling the base model.\n"
   ]
  },
  {
   "cell_type": "code",
   "execution_count": null,
   "metadata": {
    "tags": []
   },
   "outputs": [],
   "source": [
    "model = Sequential()\n",
    "model.add(basemodel)\n",
    "model.add(Dense(512, activation='relu', input_dim=input_shape))\n",
    "model.add(Dropout(0.3))\n",
    "model.add(Dense(512, activation='relu'))\n",
    "model.add(Dropout(0.3))\n",
    "model.add(Dense(1, activation='sigmoid'))\n",
    "\n",
    "checkpoint_path='O_R_tlearn_image_augm_fine_tune_vgg16.h5'\n",
    "\n",
    "\n",
    "# learning schedule callback\n",
    "loss_history_ = LossHistory_()\n",
    "lrate_ = LearningRateScheduler(exp_decay)\n",
    "\n",
    "keras_callbacks = [\n",
    "      EarlyStopping(monitor = 'loss', \n",
    "                    patience = 5, \n",
    "                    mode = 'min', \n",
    "                    min_delta=0.01),\n",
    "      ModelCheckpoint(checkpoint_path, monitor='loss', save_best_only=True, mode='min')\n",
    "]\n",
    "\n",
    "callbacks_list_ = [loss_history_, lrate_, keras_callbacks]\n",
    "\n",
    "model.compile(loss='binary_crossentropy',\n",
    "              optimizer=optimizers.RMSprop(learning_rate=1e-5),\n",
    "              metrics=['accuracy'])\n",
    "              \n",
    "fine_tune_model = model.fit(train_generator, \n",
    "                    steps_per_epoch=10, \n",
    "                    epochs=5,\n",
    "                    callbacks = callbacks_list_,   \n",
    "                    validation_data=val_generator, \n",
    "                    validation_steps=10, \n",
    "                    verbose=1)       "
   ]
  },
  {
   "cell_type": "markdown",
   "metadata": {},
   "source": [
    "The fine tuned model has a validation accuracy higher than the previous transfer learning model.\n"
   ]
  },
  {
   "cell_type": "markdown",
   "metadata": {},
   "source": [
    "### Evaluate both models on test data\n"
   ]
  },
  {
   "cell_type": "markdown",
   "metadata": {},
   "source": [
    "Load saved models:\n"
   ]
  },
  {
   "cell_type": "code",
   "execution_count": null,
   "metadata": {
    "tags": []
   },
   "outputs": [],
   "source": [
    "extract_feat_model = tf.keras.models.load_model('O_R_tlearn_image_augm_cnn_vgg16.h5')\n",
    "fine_tune_model = tf.keras.models.load_model('O_R_tlearn_image_augm_fine_tune_vgg16.h5')"
   ]
  },
  {
   "cell_type": "markdown",
   "metadata": {},
   "source": [
    "Load test images:\n"
   ]
  },
  {
   "cell_type": "code",
   "execution_count": null,
   "metadata": {
    "tags": []
   },
   "outputs": [],
   "source": [
    "from sklearn.utils import shuffle\n",
    "\n",
    "\n",
    "IMG_DIM = (150, 150)\n",
    "\n",
    "# Read in all O and R test images file paths. Shuffle and select 50 random test images. \n",
    "test_files_O = glob.glob('./o-vs-r-split/test/O/*')\n",
    "test_files_R = glob.glob('./o-vs-r-split/test/R/*')\n",
    "test_files = test_files_O + test_files_R\n",
    "test_files = shuffle(test_files)[0:50]\n",
    "\n",
    "# Extract label from file path\n",
    "test_imgs = [tf.keras.preprocessing.image.img_to_array(tf.keras.preprocessing.image.load_img(img, target_size=IMG_DIM)) for img in test_files]\n",
    "test_imgs = np.array(test_imgs)\n",
    "test_labels = [fn.split('/')[3].split('.')[0].strip() for fn in test_files]\n",
    "\n",
    "# Standardize\n",
    "test_imgs_scaled = test_imgs.astype('float32')\n",
    "test_imgs_scaled /= 255"
   ]
  },
  {
   "cell_type": "code",
   "execution_count": null,
   "metadata": {
    "tags": []
   },
   "outputs": [],
   "source": [
    "class2num_lt = lambda l: [0 if x == 'O' else 1 for x in l]\n",
    "num2class_lt = lambda l: ['O' if x < 0.5 else 'R' for x in l]\n",
    "\n",
    "test_labels_enc = class2num_lt(test_labels)"
   ]
  },
  {
   "cell_type": "code",
   "execution_count": null,
   "metadata": {
    "tags": []
   },
   "outputs": [],
   "source": [
    "predictions_extract_feat_model = extract_feat_model.predict(test_imgs_scaled, verbose=0)\n",
    "predictions_fine_tune_model = fine_tune_model.predict(test_imgs_scaled, verbose=0)"
   ]
  },
  {
   "cell_type": "code",
   "execution_count": null,
   "metadata": {
    "tags": []
   },
   "outputs": [],
   "source": [
    "predictions_extract_feat_model = num2class_lt(predictions_extract_feat_model)\n",
    "predictions_fine_tune_model = num2class_lt(predictions_fine_tune_model)"
   ]
  },
  {
   "cell_type": "code",
   "execution_count": null,
   "metadata": {
    "tags": []
   },
   "outputs": [],
   "source": [
    "print('Extract Features Model')\n",
    "print(metrics.classification_report(test_labels, predictions_extract_feat_model))\n",
    "print('Fine-Tuned Model')\n",
    "print(metrics.classification_report(test_labels, predictions_fine_tune_model))"
   ]
  },
  {
   "cell_type": "markdown",
   "metadata": {},
   "source": [
    "#### Custom image: is your waste organic or a recyclable?\n"
   ]
  },
  {
   "cell_type": "code",
   "execution_count": null,
   "metadata": {
    "tags": []
   },
   "outputs": [],
   "source": [
    "custom_im = test_imgs_scaled[2]\n",
    "plt.imshow(custom_im)\n",
    "\n",
    "num2class_lt(extract_feat_model.predict(custom_im.reshape((1,\n",
    "                                                           test_imgs_scaled.shape[1], \n",
    "                                                           test_imgs_scaled.shape[2], \n",
    "                                                           test_imgs_scaled.shape[3])), verbose=0))"
   ]
  },
  {
   "cell_type": "code",
   "execution_count": null,
   "metadata": {
    "tags": []
   },
   "outputs": [],
   "source": [
    "custom_im = test_imgs_scaled[3]\n",
    "plt.imshow(custom_im)\n",
    "\n",
    "num2class_lt(extract_feat_model.predict(custom_im.reshape((1,\n",
    "                                                           test_imgs_scaled.shape[1], \n",
    "                                                           test_imgs_scaled.shape[2], \n",
    "                                                           test_imgs_scaled.shape[3])), verbose=0))"
   ]
  },
  {
   "cell_type": "markdown",
   "metadata": {},
   "source": [
    "Now we are all set to see if our waste product is an organic or a recyclable.\n"
   ]
  },
  {
   "cell_type": "markdown",
   "metadata": {},
   "source": [
    "## Example 2: Use Transfer Learning for identifying Stop Signs\n",
    "\n",
    "Other than VGG-16, there are many state-of-the-art CNN architectures we could explore, such as **InceptionNet, MobileNet, ResNet, Xception**, and so on. There are more than two dozen pre-trained models available from Keras that we could use directly for transfer learning. In this example, we will implement some of them for distinguishing stop signs. \n",
    "\n",
    "The stop sign datasets will be downloaded using the following cells. Compared to a typical dataset of images, the stop sign dataset is relatively small as it only contains around 200 training images and 8 test images. This is when transfer learning should come to rescue, because training models from scratch would require a lot of data, otherwise you will likely overfit your model. \n"
   ]
  },
  {
   "cell_type": "markdown",
   "metadata": {},
   "source": [
    "### Loading images\n"
   ]
  },
  {
   "cell_type": "markdown",
   "metadata": {},
   "source": [
    "Uncomment the following cell to download the data files and unzip them.\n"
   ]
  },
  {
   "cell_type": "code",
   "execution_count": null,
   "metadata": {
    "tags": []
   },
   "outputs": [],
   "source": [
    "await skillsnetwork.prepare(\"https://cf-courses-data.s3.us.cloud-object-storage.appdomain.cloud/IBMDeveloperSkillsNetwork-CV0101EN-Coursera/dataset/stop.zip\",\n",
    "                           overwrite=True)\n",
    "await skillsnetwork.prepare(\"https://cf-courses-data.s3.us.cloud-object-storage.appdomain.cloud/IBMDeveloperSkillsNetwork-CV0101EN-Coursera/dataset/not_stop.zip\",\n",
    "                           overwrite=True)\n",
    "await skillsnetwork.prepare(\"https://cf-courses-data.s3.us.cloud-object-storage.appdomain.cloud/IBMDeveloperSkillsNetwork-CV0101EN-Coursera/dataset/test_set_stop_not_stop.zip\",\n",
    "                           overwrite=True)"
   ]
  },
  {
   "cell_type": "markdown",
   "metadata": {},
   "source": [
    "#### Creating image directories\n",
    "\n",
    "We will rearange the image directories as follows:\n",
    "\n",
    "```python\n",
    "signs/\n",
    "└── train\n",
    "    ├── stop\n",
    "    └── not_stop\n",
    "└── test\n",
    "    ├── stop\n",
    "    └── not_stop\n",
    "```\n",
    "\n",
    "We will have a train and a test directory, and each contains images that have stop signs and those that don't. This setup of directories will be handy when we use the `flow_from_directory` function later to build data generators.\n"
   ]
  },
  {
   "cell_type": "code",
   "execution_count": null,
   "metadata": {
    "tags": []
   },
   "outputs": [],
   "source": [
    "dataset_home = 'signs/'\n",
    "subdirs = ['train/', 'test/']\n",
    "for subdir in subdirs:\n",
    "    labeldirs = ['stop/', 'not_stop/']\n",
    "    for labeldir in labeldirs:\n",
    "        newdir = dataset_home + subdir + labeldir\n",
    "        makedirs(newdir, exist_ok = True)"
   ]
  },
  {
   "cell_type": "markdown",
   "metadata": {},
   "source": [
    "#### Moving images\n",
    "\n",
    "Let's move the images according to the map above.\n"
   ]
  },
  {
   "cell_type": "code",
   "execution_count": null,
   "metadata": {
    "tags": []
   },
   "outputs": [],
   "source": [
    "for file in listdir(\"stop\"):\n",
    "    if file != '.DS_Store':\n",
    "        shutil.copyfile(f\"stop/{file}\", f\"signs/train/stop/{file}\")\n",
    "        \n",
    "for file in listdir(\"not_stop\"):\n",
    "    if file != '.DS_Store':\n",
    "        shutil.copyfile(f\"not_stop/{file}\", f\"signs/train/not_stop/{file}\")\n",
    "\n",
    "test_path = \"test_set_stop_not_stop/\"\n",
    "for file in listdir(test_path):\n",
    "    if file.startswith(\"stop\"):\n",
    "        shutil.copyfile(test_path+file, f\"signs/test/stop/{file}\")\n",
    "    elif file.startswith(\"not_stop\"):\n",
    "        shutil.copyfile(test_path+file, f\"signs/test/not_stop/{file}\")      \n",
    "       "
   ]
  },
  {
   "cell_type": "markdown",
   "metadata": {},
   "source": [
    "#### Displaying raw images\n",
    "\n",
    "Use the following code to display the first five images in the train set that have stop signs and the first five images that don't have stop signs.\n"
   ]
  },
  {
   "cell_type": "code",
   "execution_count": null,
   "metadata": {
    "tags": []
   },
   "outputs": [],
   "source": [
    "train_stop = glob.glob('./signs/train/stop/*')\n",
    "train_not_stop = glob.glob('./signs/train/not_stop/*')\n",
    "\n",
    "fig1, ax1 = plt.subplots(1,5,figsize=(15,4))\n",
    "fig1.suptitle(\"STOP Signs\", fontsize=18)\n",
    "l1 = [ax1[i].imshow(imread(train_stop[i])) for i in range(5)]\n",
    "\n",
    "fig2, ax2 = plt.subplots(1,5,figsize=(15,4))\n",
    "fig2.suptitle(\"NO STOP Signs\", fontsize=18)\n",
    "l2 = [ax2[i].imshow(imread(train_not_stop[i])) for i in range(5)]\n"
   ]
  },
  {
   "cell_type": "markdown",
   "metadata": {},
   "source": [
    "#### Building image data generators\n"
   ]
  },
  {
   "cell_type": "markdown",
   "metadata": {},
   "source": [
    "Same as what we did for the waste data, we will build image data generators that perform real-time image augmentation while returning batches of image data. We will apply image augmentation on the training data only. We use a validation split of 0.2 and a batch size of 30.\n"
   ]
  },
  {
   "cell_type": "code",
   "execution_count": null,
   "metadata": {
    "tags": []
   },
   "outputs": [],
   "source": [
    "path = \"signs/train/\"\n",
    "labels = ['stop', 'not_stop']\n",
    "seed = 123\n",
    "batch_size = 30\n",
    "target_size = (112,112)"
   ]
  },
  {
   "cell_type": "code",
   "execution_count": null,
   "metadata": {
    "tags": []
   },
   "outputs": [],
   "source": [
    "train_datagen = ImageDataGenerator(validation_split=0.2,\n",
    "                                  rescale=1./255.,\n",
    "                                  rotation_range=40,\n",
    "                                  width_shift_range=0.2,\n",
    "                                  height_shift_range=0.2,\n",
    "                                  shear_range=0.2,\n",
    "                                  zoom_range=0.2,\n",
    "                                  horizontal_flip=True)\n",
    "\n",
    "val_datagen = ImageDataGenerator(validation_split=0.2,\n",
    "                                  rescale=1./255.)\n"
   ]
  },
  {
   "cell_type": "code",
   "execution_count": null,
   "metadata": {
    "tags": []
   },
   "outputs": [],
   "source": [
    "train_generator = train_datagen.flow_from_directory(\n",
    "    directory = path,\n",
    "    classes = labels,\n",
    "    seed = seed,\n",
    "    batch_size = batch_size, \n",
    "    class_mode='binary',\n",
    "    shuffle = True,\n",
    "    target_size=target_size,\n",
    "    subset = 'training'\n",
    ")\n",
    "\n",
    "val_generator = val_datagen.flow_from_directory(\n",
    "    directory = path,\n",
    "    classes = labels,\n",
    "    seed = seed,\n",
    "    batch_size = batch_size, \n",
    "    class_mode='binary',\n",
    "    shuffle = True,\n",
    "    target_size=target_size,\n",
    "    subset = 'validation'\n",
    ")"
   ]
  },
  {
   "cell_type": "code",
   "execution_count": null,
   "metadata": {
    "tags": []
   },
   "outputs": [],
   "source": [
    "print(train_generator.class_indices)\n",
    "\n",
    "prob2class = lambda x: 'Stop' if x < 0.5 else 'Not Stop' "
   ]
  },
  {
   "cell_type": "markdown",
   "metadata": {},
   "source": [
    "For our test images, we convert them into numpy arrays with pixel values scaled to 0-1. The test data will not be seen by the model during training or validation, but they will be used to evaluate the predictive power of our model at the end.\n"
   ]
  },
  {
   "cell_type": "code",
   "execution_count": null,
   "metadata": {
    "tags": []
   },
   "outputs": [],
   "source": [
    "test_files = glob.glob('signs/test/stop/*.jpeg') + glob.glob('signs/test/not_stop/*.jpeg')\n",
    "test_files = shuffle(test_files)\n",
    "\n",
    "test_imgs = [tf.keras.preprocessing.image.img_to_array(tf.keras.preprocessing.image.load_img(img, target_size=target_size)) for img in test_files]\n",
    "test_imgs = np.array(test_imgs).astype('int')\n",
    "\n",
    "# Standardize\n",
    "test_imgs_scaled = test_imgs.astype('float32')\n",
    "test_imgs_scaled /= 255"
   ]
  },
  {
   "cell_type": "markdown",
   "metadata": {},
   "source": [
    "### Defining a helper function for building, compiling, and fitting CNNs\n"
   ]
  },
  {
   "cell_type": "code",
   "execution_count": null,
   "metadata": {
    "tags": []
   },
   "outputs": [],
   "source": [
    "def build_compile_fit(basemodel):\n",
    "    \n",
    "    # flatten the output of the base model\n",
    "    x = Flatten()(basemodel.output)\n",
    "    # add a fully connected layer \n",
    "    x = Dense(1024, activation='relu')(x)\n",
    "    # add dropout layer for regularization\n",
    "    x = Dropout(0.2)(x)\n",
    "    # add final layer for classification\n",
    "    x = Dense(1, activation='sigmoid')(x)\n",
    "\n",
    "    model = Model(basemodel.input, x)\n",
    "    model.compile(optimizer = optimizers.RMSprop(learning_rate=0.0001),\n",
    "                                                       loss='binary_crossentropy',\n",
    "                                                       metrics=['accuracy'])\n",
    "    callbacks = [EarlyStopping(monitor = 'loss', \n",
    "                    patience = 5, \n",
    "                    mode = 'min', \n",
    "                    min_delta=0.01)]\n",
    "\n",
    "    model.fit(train_generator,\n",
    "              validation_data = val_generator,\n",
    "              steps_per_epoch=5, # num of batches in one epoch\n",
    "              epochs=10,\n",
    "              callbacks=callbacks)\n",
    "    \n",
    "    return model"
   ]
  },
  {
   "cell_type": "code",
   "execution_count": null,
   "metadata": {},
   "outputs": [],
   "source": []
  },
  {
   "cell_type": "markdown",
   "metadata": {},
   "source": [
    "### Pre-trained Model 1: Inception-v3\n"
   ]
  },
  {
   "cell_type": "markdown",
   "metadata": {},
   "source": [
    "**Inception-v3** is a successor to Inception-v1 with 24 million parameters and ran 48 layers deep. \n",
    "\n",
    "Instead of focusing on increasing the depth of the network, InceptionNet focuses on increasing the width and depth of the model simultaneously to attain better accuracy, while keeping the computing resources constant. \n",
    "\n",
    "It focuses on **parallel processing** and extraction of various feature maps concurrently using **Inception modules**, which are collections of convolutions with different filter sizes and pooling operations. The following is an illustration of the inception module in inception-v1 architecture:\n",
    "\n",
    "<center>\n",
    "<img src=\"https://cf-courses-data.s3.us.cloud-object-storage.appdomain.cloud/IBMDeveloperSkillsNetwork-ML311-Coursera/labs/Module3/L2/img/Inception_v1_module.png\"></center>\n",
    "\n",
    "Picture credits to [Wichai Puarungroj](https://www.researchgate.net/profile/Wichai-Puarungroj-2)\n",
    "\n",
    "The inception architecture was refined in various ways, specifically for inception-v3, the following improvements are incorporated to achieve less expensive and still efficient networks:\n",
    "\n",
    "- Factorization Into Smaller Convolutions\n",
    "- Factorization Into Asymmetric Convolutions\n",
    "- Auxiliary Classifier used as regularizer\n",
    "- Efficient Grid Size Reduction\n",
    "\n",
    "You can read more about the different versions of InceptionNet [here](https://towardsdatascience.com/a-simple-guide-to-the-versions-of-the-inception-network-7fc52b863202)\n"
   ]
  },
  {
   "cell_type": "code",
   "execution_count": null,
   "metadata": {},
   "outputs": [],
   "source": []
  },
  {
   "cell_type": "markdown",
   "metadata": {},
   "source": [
    "Let's import the pre-trained Inception-v3 architecture from keras applications for our transfer learning task:\n"
   ]
  },
  {
   "cell_type": "code",
   "execution_count": null,
   "metadata": {
    "tags": []
   },
   "outputs": [],
   "source": [
    "from keras.applications.inception_v3 import InceptionV3\n",
    "\n",
    "# initialize the base model\n",
    "basemodel = InceptionV3(input_shape=(112,112,3),\n",
    "                          include_top = False,\n",
    "                          weights = 'imagenet')\n",
    "\n",
    "for layer in basemodel.layers:\n",
    "    layer.trainable = False\n",
    "\n",
    "# call the build_compile_fit function to complete model training\n",
    "inception_v3 = build_compile_fit(basemodel)"
   ]
  },
  {
   "cell_type": "markdown",
   "metadata": {},
   "source": [
    "The pre-trained part of our **inception_v3** model utilizes the weights obtained from the imagenet dataset training. Only the layers that we added are trained on the stop sign's data.\n",
    "\n",
    "Let's now display the test images along with their class labels predicted by the fitted **inception_v3**:\n"
   ]
  },
  {
   "cell_type": "code",
   "execution_count": null,
   "metadata": {},
   "outputs": [],
   "source": [
    "fig, ax = plt.subplots(2, 4, figsize=(12, 6))\n",
    "\n",
    "for i, ax in enumerate(ax.flat):\n",
    "    ax.imshow(test_imgs[i])\n",
    "    pred_class = prob2class(inception_v3.predict(test_imgs_scaled[i].reshape(1, 112, 112,3)))\n",
    "    \n",
    "    # print the predicted class label as the title of the image\n",
    "    ax.set_title(pred_class, fontsize=15)\n",
    "    ax.axis(\"off\")"
   ]
  },
  {
   "cell_type": "markdown",
   "metadata": {},
   "source": [
    "### Pre-trained Model 2: MobileNet\n"
   ]
  },
  {
   "cell_type": "markdown",
   "metadata": {},
   "source": [
    "**MobileNets** are very efficient and small deep learning architectures specially designed for mobile devices.\n",
    "\n",
    "It uses of a new kind of convolution layer, known as **Depthwise Separable convolution**. The main difference between a 2D convolution and a Depthwise convolution is that the former is performed over multiple input channels by doing a weighted sum of the input pixels with the filter, whereas the latter is performed separately over each channel. \n",
    "\n",
    "For example, if the input image has three channels, then the output of depthwise separable convolution will also have three channels. The next step is **Pointwise convolution**, which is similar to a regular convolution with a $1\\times1$ filter. By doing so, we can again merge the three channels from depthwise separable convolution into one to create new features.\n"
   ]
  },
  {
   "cell_type": "markdown",
   "metadata": {},
   "source": [
    "Let's import the pre-trained MobileNet architecture from keras applications for our transfer learning task:\n"
   ]
  },
  {
   "cell_type": "code",
   "execution_count": null,
   "metadata": {},
   "outputs": [],
   "source": [
    "from keras.applications.mobilenet import MobileNet\n",
    "\n",
    "# initialize the base model\n",
    "basemodel = MobileNet(input_shape=(112,112,3),\n",
    "                          include_top = False,\n",
    "                          weights = 'imagenet')\n",
    "\n",
    "for layer in basemodel.layers:\n",
    "    layer.trainable = False\n",
    "    \n",
    "# call the build_compile_fit function to complete model training\n",
    "mobile_net = build_compile_fit(basemodel)"
   ]
  },
  {
   "cell_type": "markdown",
   "metadata": {},
   "source": [
    "Let's display the test images along with the their class labels predicted by the fitted **mobile_net**:\n"
   ]
  },
  {
   "cell_type": "code",
   "execution_count": null,
   "metadata": {},
   "outputs": [],
   "source": [
    "fig, ax = plt.subplots(2, 4, figsize=(12, 6))\n",
    "\n",
    "for i, ax in enumerate(ax.flat):\n",
    "    ax.imshow(test_imgs[i])\n",
    "    pred_class = prob2class(mobile_net.predict(test_imgs_scaled[i].reshape(1, 112, 112,3)))\n",
    "    \n",
    "    # print the predicted class label as the title of the image\n",
    "    ax.set_title(pred_class, fontsize=15)\n",
    "    ax.axis(\"off\")"
   ]
  },
  {
   "cell_type": "markdown",
   "metadata": {},
   "source": [
    "### Pre-trained Model 3: ResNet-50\n"
   ]
  },
  {
   "cell_type": "markdown",
   "metadata": {},
   "source": [
    "**ResNet** features special skip connections which add the output from an earlier layer directly to a later layer and heavy use of batch normalization. It allows us to design deep CNNs without compromising the model’s convergence and accuracy. The basic building blocks for ResNets are the convolution and identity blocks. \n",
    "\n",
    "Essentially, ResNet uses the network layers to fit a residual mapping $F(x) + x$, instead of trying to learn the desired underlying mapping $H(x)$ directly with stacked layers. \n",
    "\n",
    "<center><img src=\"https://cf-courses-data.s3.us.cloud-object-storage.appdomain.cloud/IBMDeveloperSkillsNetwork-ML311-Coursera/labs/Module3/L2/img/resnet.png\" width=\"30%\"></center>\n",
    "\n",
    "The formulation of $F(x) + x$ can be realized by the feedforward neural networks with **shortcut connections**. Shortcut connections add the output from the previous layer directly to the output of the current layer, which can be seen as **identity mapping**.\n",
    "\n",
    "By doing so, the network overcomes the vanishing gradient problem because now the gradient signals could travel back to early layers through this shortcut.\n"
   ]
  },
  {
   "cell_type": "markdown",
   "metadata": {},
   "source": [
    "Similarly, let's import the pre-trained ResNet-50 architecture from keras applications.\n"
   ]
  },
  {
   "cell_type": "code",
   "execution_count": null,
   "metadata": {},
   "outputs": [],
   "source": [
    "from keras.applications import ResNet50\n",
    "\n",
    "# initialize the base model\n",
    "basemodel = ResNet50(input_shape=(112,112,3),\n",
    "                          include_top = False,\n",
    "                          weights = 'imagenet')\n",
    "\n",
    "for layer in basemodel.layers:\n",
    "    layer.trainable = False\n",
    "\n",
    "# call the build_compile_fit function to complete model training\n",
    "resnet_50 = build_compile_fit(basemodel)"
   ]
  },
  {
   "cell_type": "markdown",
   "metadata": {},
   "source": [
    "Let's display the test images along with their class labels predicted by **resnet_50**:\n"
   ]
  },
  {
   "cell_type": "code",
   "execution_count": null,
   "metadata": {},
   "outputs": [],
   "source": [
    "fig, ax = plt.subplots(2, 4, figsize=(12, 6))\n",
    "\n",
    "for i, ax in enumerate(ax.flat):\n",
    "    ax.imshow(test_imgs[i])\n",
    "    pred_class = prob2class(resnet_50.predict(test_imgs_scaled[i].reshape(1, 112, 112,3)))\n",
    "    \n",
    "    # print the predicted class label as the title of the image\n",
    "    ax.set_title(pred_class, fontsize=15)\n",
    "    ax.axis(\"off\")"
   ]
  },
  {
   "cell_type": "markdown",
   "metadata": {},
   "source": [
    "## Authors\n"
   ]
  },
  {
   "cell_type": "markdown",
   "metadata": {},
   "source": [
    "[Kopal Garg](https://www.linkedin.com/in/gargkopal/?utm_medium=Exinfluencer&utm_source=Exinfluencer&utm_content=000026UJ&utm_term=10006555&utm_id=NA-SkillsNetwork-Channel-SkillsNetworkCoursesIBMDeveloperSkillsNetworkML311Coursera35714171-2022-01-01)\n"
   ]
  },
  {
   "cell_type": "markdown",
   "metadata": {},
   "source": [
    "Kopal Garg is a Masters student in Computer Science at the University of Toronto.\n"
   ]
  },
  {
   "cell_type": "markdown",
   "metadata": {},
   "source": [
    "[Roxanne Li](https://www.linkedin.com/in/roxanne-li/) is a Data Science intern at IBM Skills Network, entering level-5 study in the Mathematics & Statistics undergraduate Coop program at McMaster University.\n"
   ]
  },
  {
   "cell_type": "markdown",
   "metadata": {},
   "source": [
    "## Change Log\n"
   ]
  },
  {
   "cell_type": "markdown",
   "metadata": {},
   "source": [
    "| Date (YYYY-MM-DD) | Version | Changed By  | Change Description |\n",
    "| ----------------- | ------- | ----------- | ------------------ |\n",
    "| 2022-05-31        | 0.1     | Kopal Garg  | Created Lab        |\n",
    "| 2022-06-28        | 0.1     | Roxanne Li  | Added examples     |\n",
    "| 2022-09-07        | 0.1     | Steve Hord  | QA pass edits      |\n"
   ]
  },
  {
   "cell_type": "code",
   "execution_count": null,
   "metadata": {},
   "outputs": [],
   "source": []
  }
 ],
 "metadata": {
  "kernelspec": {
   "display_name": "Python",
   "language": "python",
   "name": "conda-env-python-py"
  },
  "language_info": {
   "codemirror_mode": {
    "name": "ipython",
    "version": 3
   },
   "file_extension": ".py",
   "mimetype": "text/x-python",
   "name": "python",
   "nbconvert_exporter": "python",
   "pygments_lexer": "ipython3",
   "version": "3.7.12"
  },
  "prev_pub_hash": "eb16dd8ca4216333f71b5267e56ce2b100b8476d7a5bf8c58fff12fed5ff54bc"
 },
 "nbformat": 4,
 "nbformat_minor": 4
}
